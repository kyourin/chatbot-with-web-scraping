{
 "cells": [
  {
   "cell_type": "markdown",
   "metadata": {},
   "source": [
    "# **Notes:**\n",
    "\n",
    "The algorithm should be optimized in terms of its speed and performance. The one way of increasing its speed is to set limitations and restrictions to the urls to be searced for. On the other hand, to be able to increase performance, embedding models can be changed, dimensionality reduction algorithm and clustering algoritm parameters can be adjusted and so on...\n",
    "\n",
    "Additionally, there are different ways of extracting topics of a text such as using KeyBert, c-TFIDF, BerTopic... I wanted to use Bert transformers; however, it was computationally heavy process, I couldn't make fine tuning. Therefore, I did not prefer this way. For the preprocessing of the data, there are bunch of things that can be done to further process and clean the data such as lemmatization, yet I couldn't find a well performanced lemmatizer. I have tried 'Zeyrek', but as I said it didn't work well.\n",
    "\n",
    "Finally, the code can be made available for use from the command line using 'argparse' library."
   ]
  },
  {
   "cell_type": "code",
   "execution_count": 2,
   "metadata": {},
   "outputs": [
    {
     "name": "stderr",
     "output_type": "stream",
     "text": [
      "[nltk_data] Downloading package stopwords to\n",
      "[nltk_data]     C:\\Users\\Hasan\\AppData\\Roaming\\nltk_data...\n",
      "[nltk_data]   Package stopwords is already up-to-date!\n",
      "[nltk_data] Downloading package punkt to\n",
      "[nltk_data]     C:\\Users\\Hasan\\AppData\\Roaming\\nltk_data...\n",
      "[nltk_data]   Package punkt is already up-to-date!\n"
     ]
    }
   ],
   "source": [
    "import selenium\n",
    "from selenium import webdriver\n",
    "from warnings import filterwarnings\n",
    "import numpy as np\n",
    "from nltk.corpus import stopwords\n",
    "import nltk\n",
    "import requests\n",
    "from bs4 import BeautifulSoup\n",
    "import torch\n",
    "from transformers import AutoModel, AutoTokenizer\n",
    "from scipy.spatial.distance import cosine\n",
    "from operator import itemgetter\n",
    "from flair.embeddings import TransformerDocumentEmbeddings\n",
    "from sentence_transformers import SentenceTransformer\n",
    "from bs4 import BeautifulSoup\n",
    "import json\n",
    "import numpy as np\n",
    "import requests\n",
    "from requests.models import MissingSchema\n",
    "import spacy\n",
    "import trafilatura\n",
    "import psycopg2 as pg2\n",
    "import gensim\n",
    "\n",
    "filterwarnings('ignore')\n",
    "\n",
    "nltk.download('stopwords')\n",
    "nltk.download('punkt')\n",
    "stopwords = set(nltk.corpus.stopwords.words('turkish')+['bir'])"
   ]
  },
  {
   "cell_type": "code",
   "execution_count": 10,
   "metadata": {},
   "outputs": [
    {
     "name": "stderr",
     "output_type": "stream",
     "text": [
      "Some weights of the model checkpoint at dbmdz/bert-base-turkish-128k-uncased were not used when initializing BertModel: ['cls.predictions.transform.LayerNorm.bias', 'cls.seq_relationship.bias', 'cls.predictions.transform.dense.bias', 'cls.predictions.decoder.bias', 'cls.predictions.transform.dense.weight', 'cls.predictions.transform.LayerNorm.weight', 'cls.seq_relationship.weight', 'cls.predictions.bias', 'cls.predictions.decoder.weight']\n",
      "- This IS expected if you are initializing BertModel from the checkpoint of a model trained on another task or with another architecture (e.g. initializing a BertForSequenceClassification model from a BertForPreTraining model).\n",
      "- This IS NOT expected if you are initializing BertModel from the checkpoint of a model that you expect to be exactly identical (initializing a BertForSequenceClassification model from a BertForSequenceClassification model).\n"
     ]
    }
   ],
   "source": [
    "tokenizer = AutoTokenizer.from_pretrained(\"dbmdz/bert-base-turkish-128k-uncased\",do_lower_case=True, truncate=True)\n",
    "model = AutoModel.from_pretrained(\"dbmdz/bert-base-turkish-128k-uncased\", output_hidden_states = True)"
   ]
  },
  {
   "cell_type": "code",
   "execution_count": 3,
   "metadata": {},
   "outputs": [],
   "source": [
    "# This is the first 100_000 sentences from the TsCorpora from where I have used sample paragraphs to test my algorithm. \n",
    "data_path = 'C:/Users/Hasan/Desktop/first_100_000.txt'\n",
    "with open(data_path, 'r') as f:\n",
    "    data = f.read().split('\\n')\n",
    "f.close()\n",
    "data.remove(data[0])"
   ]
  },
  {
   "cell_type": "code",
   "execution_count": 7,
   "metadata": {},
   "outputs": [],
   "source": [
    "def preprocess_text(data):\n",
    "\n",
    "    \"\"\"\n",
    "    Function to process text data.\n",
    "\n",
    "    args:\n",
    "        data: text data to be processed as a list of sentences of type string.\n",
    "    \"\"\"\n",
    "\n",
    "    no_stop_words = []\n",
    "    for k in data:\n",
    "        no_stop_words.append(' '.join([x.lower() for x in k.split(' ') if x.lower() not in stopwords]))\n",
    "\n",
    "    no_punkt = []\n",
    "    for sentence in no_stop_words:\n",
    "        no_punkt.append(' '.join([word.lower() for word in sentence.split(' ') if word.isalpha()]))\n",
    "\n",
    "    return no_punkt\n",
    "    \n",
    "\n",
    "def get_sentence_embeddings(processed_data):\n",
    "\n",
    "    \"\"\"\n",
    "    Function to get sentence embeddings to be used to calculate cosine similarity.\n",
    "\n",
    "    args:\n",
    "        processed_data: the output from the preprocess_text.\n",
    "    \"\"\"\n",
    "\n",
    "    spec_tokens = '[CLS] ' + ' '.join(processed_data) + ' [SEP]'\n",
    "      \n",
    "\n",
    "    tokenized_text = tokenizer.tokenize(spec_tokens)[:512]\n",
    "    indexed_tokens = tokenizer.convert_tokens_to_ids(tokenized_text)\n",
    "\n",
    "    segment_ids = [1]*len(tokenized_text)\n",
    "\n",
    "    tokens_tensor = torch.tensor([indexed_tokens])\n",
    "    segments_tensors = torch.tensor([segment_ids])\n",
    "\n",
    "    \n",
    "    model.eval()\n",
    "\n",
    "    with torch.no_grad():\n",
    "\n",
    "        outputs = model(tokens_tensor, segments_tensors)\n",
    "        hidden_states = outputs[2]\n",
    "\n",
    "\n",
    "    token_vecs = hidden_states[-2][0]\n",
    "\n",
    "    sentence_embedding = torch.mean(token_vecs, dim=0)\n",
    "    return sentence_embedding\n",
    "\n",
    "def Extract(lst):\n",
    "\n",
    "    \"\"\"\n",
    "    Function to get elemnts at specific indices in a nested list.\n",
    "\n",
    "    args:\n",
    "        lst: nested list \n",
    "    \"\"\"\n",
    "\n",
    "    return list( map(itemgetter(0), lst ))"
   ]
  },
  {
   "cell_type": "code",
   "execution_count": 4,
   "metadata": {},
   "outputs": [
    {
     "data": {
      "text/plain": [
       "['Kronik Ürtiker’in çoğunluğunun tanımlaması zordur',\n",
       " '—Belli Paraziter hastalıklar , —Tansiyon ilaçları veya stres tetikleyicidir —Kronik Hastalıklar ( idrar yolu enfeksiyonları , sinüzit , akciğer hastalıkları ) Kronik ürtiker ; derinin ısıya maruz kalması , soğuk , güneş ışığı , titreme veya basınç gibi fiziksel faktörler tarafından da tetiklenebilir',\n",
       " 'Bazı kişiler o kadar hassas cilde sahiptir ki herhangi bir ovalama dahi dermografizm diye adlandırılan ve deriden kabarık kırmızı çizgilere neden olan kabartılara sebep olabilir',\n",
       " 'Buda bir çeşit ürtikeryal oluşumdur bağışıklık sistemini tutan hastalıklar Ürtiker’i tetikleyebilir',\n",
       " 'Belirtileri Nelerdir ? Döküntüye bağlı bir sayıda kırmızı çevrilmiş cilt lezyonları',\n",
       " 'Bu vücuduna yayılmaya meyillidir Kronik olgularda kaşıntılı uykusuz gecelere neden olur bu durum depresyona bile neden olabilir',\n",
       " 'Hastalığın bulguları arasında kaşıntılı , deriden kabarık , kızarık 0,5cm ila çok büyük ölçülerde deride plaklar bulunur',\n",
       " 'Bu plakların bazıları birleşme eğilimindedir',\n",
       " 'Plakların sınırlarını net olarak çizmek her zaman mümkün olmaz Lezyonlar genellikle birkaç saat içerisinde solar , yerine başka alanlarda yenileri çıkabilir',\n",
       " 'Ancak ortamda hastalık gibi , ilaç gibi bir tetikleyici faktör varlığında stres ve aspirin alımı takiben aniden tekrar ortaya çıkabilir',\n",
       " 'Nedeni Nasıl Teşhis Edilir ? Hastalarda iyi bir hastalık öyküsü sonrası , alerji testlerini içeren araştırmalar yanında diğer bahsi geçen hastalıkların araştırmaları yapılmalıdır',\n",
       " 'Altta yatan hastalığın tedavisi sonucunda genel olarak ürtiker kendiliğinden geçer ve tekrar etmez',\n",
       " 'Ancak sebebi bilinmeyen ürtiker hastalarında antialerjik ilaçlardan faydalanılır',\n",
       " 'Bu hastalarda klasik olarak sabahları sedatif olmayan antialerjikler , akşamları sedatif antiallerjikler ve H2 reseptör blokerleri birlikte kullanılır',\n",
       " 'H2 reseptör blokerleri asıl itibari ile mide asiditesini azaltmak için kullanılan ilaçlardır',\n",
       " 'Ancak derideki histamin reseptörlerinin % 20 kadarı H2 tipinde olduğu için bu tür ilaçlar bu hastalarda faydalı olmaktadır',\n",
       " 'Bunun dışında bunlara cevap vermeyen hastalarda kortizon dahi kullanılabilir']"
      ]
     },
     "execution_count": 4,
     "metadata": {},
     "output_type": "execute_result"
    }
   ],
   "source": [
    "# taking a sample from the corpora\n",
    "ix = 25050\n",
    "inp = data[ix:ix+17]\n",
    "inp"
   ]
  },
  {
   "cell_type": "code",
   "execution_count": 8,
   "metadata": {},
   "outputs": [
    {
     "data": {
      "text/plain": [
       "['kronik çoğunluğunun tanımlaması zordur',\n",
       " 'paraziter hastalıklar ilaçları stres tetikleyicidir hastalıklar idrar yolu enfeksiyonları sinüzit akciğer hastalıkları kronik ürtiker derinin ısıya maruz kalması soğuk güneş ışığı titreme basınç fiziksel faktörler tarafından tetiklenebilir',\n",
       " 'kişiler kadar hassas cilde sahiptir herhangi ovalama dahi dermografizm adlandırılan deriden kabarık kırmızı çizgilere olan kabartılara sebep olabilir',\n",
       " 'buda çeşit ürtikeryal oluşumdur bağışıklık sistemini tutan hastalıklar tetikleyebilir',\n",
       " 'belirtileri nelerdir döküntüye bağlı sayıda kırmızı çevrilmiş cilt lezyonları',\n",
       " 'vücuduna yayılmaya meyillidir kronik olgularda kaşıntılı uykusuz gecelere olur durum depresyona bile olabilir',\n",
       " 'hastalığın bulguları arasında kaşıntılı deriden kabarık kızarık ila büyük ölçülerde deride plaklar bulunur',\n",
       " 'plakların bazıları birleşme eğilimindedir',\n",
       " 'plakların sınırlarını net olarak çizmek zaman mümkün olmaz lezyonlar genellikle saat içerisinde solar yerine başka alanlarda yenileri çıkabilir',\n",
       " 'ancak ortamda hastalık ilaç tetikleyici faktör varlığında stres aspirin alımı takiben aniden tekrar ortaya çıkabilir',\n",
       " 'nedeni teşhis edilir hastalarda iyi hastalık öyküsü sonrası alerji testlerini içeren araştırmalar yanında diğer bahsi geçen hastalıkların araştırmaları yapılmalıdır',\n",
       " 'altta yatan hastalığın tedavisi sonucunda genel olarak ürtiker kendiliğinden geçer tekrar etmez',\n",
       " 'ancak sebebi bilinmeyen ürtiker hastalarında antialerjik ilaçlardan faydalanılır',\n",
       " 'hastalarda klasik olarak sabahları sedatif olmayan antialerjikler akşamları sedatif antiallerjikler reseptör blokerleri birlikte kullanılır',\n",
       " 'reseptör blokerleri asıl itibari mide asiditesini azaltmak kullanılan ilaçlardır',\n",
       " 'ancak derideki histamin reseptörlerinin kadarı tipinde olduğu tür ilaçlar hastalarda faydalı olmaktadır',\n",
       " 'bunun dışında bunlara cevap vermeyen hastalarda kortizon dahi kullanılabilir']"
      ]
     },
     "execution_count": 8,
     "metadata": {},
     "output_type": "execute_result"
    }
   ],
   "source": [
    "# preprocessing input\n",
    "processed_input = preprocess_text(inp)\n",
    "processed_input"
   ]
  },
  {
   "cell_type": "code",
   "execution_count": 11,
   "metadata": {},
   "outputs": [
    {
     "data": {
      "text/plain": [
       "torch.Size([768])"
      ]
     },
     "execution_count": 11,
     "metadata": {},
     "output_type": "execute_result"
    }
   ],
   "source": [
    "# getting the embedding of the input\n",
    "inp_embed = get_sentence_embeddings(processed_input)\n",
    "inp_embed.shape"
   ]
  },
  {
   "cell_type": "code",
   "execution_count": 14,
   "metadata": {},
   "outputs": [
    {
     "data": {
      "text/plain": [
       "'hastalarda hastalıklar ürtiker kronik olarak ancak plakların olabilir kabarık hastalığın sedatif reseptör çıkabilir kaşıntılı dahi blokerleri tekrar hastalık deriden stres'"
      ]
     },
     "execution_count": 14,
     "metadata": {},
     "output_type": "execute_result"
    }
   ],
   "source": [
    "# extracting keywords from the text to make a google search\n",
    "\n",
    "processed_text = ' '.join(processed_input).split()\n",
    "dictionary = gensim.corpora.Dictionary([processed_text])\n",
    "bow_corpus = [dictionary.doc2bow(doc) for doc in [processed_text]]\n",
    "\n",
    "lda_model = gensim.models.LdaMulticore(bow_corpus,\n",
    "                                       num_topics=3,\n",
    "                                       id2word=dictionary,\n",
    "                                       passes=10,\n",
    "                                       workers=2)\n",
    "\n",
    "pred = ' '.join([x[1] for x in lda_model.top_topics(bow_corpus)[0][0]])\n",
    "pred"
   ]
  },
  {
   "cell_type": "code",
   "execution_count": 53,
   "metadata": {},
   "outputs": [],
   "source": [
    "# making a google search and extracting urls from the result\n",
    "\n",
    "urls=[]\n",
    "url = 'https://www.google.com'\n",
    "\n",
    "options = webdriver.ChromeOptions()\n",
    "options.add_argument('headless')\n",
    "options.add_argument('window-size=1920x1080')\n",
    "options.add_argument(\"disable-gpu\")\n",
    "\n",
    "driver = webdriver.Chrome('chromedriver', chrome_options=options)\n",
    "\n",
    "driver.get(url)\n",
    "search = driver.find_element_by_xpath('/html/body/div[1]/div[3]/form/div[1]/div[1]/div[1]/div/div[2]/input')\n",
    "search.send_keys(pred)\n",
    "btn = driver.find_element_by_xpath('/html/body/div[1]/div[3]/form/div[1]/div[1]/div[3]/center/input[1]')\n",
    "btn.click()\n",
    "links = driver.find_elements_by_css_selector('.yuRUbf a')\n",
    "for link in links:\n",
    "    urls.append(link.get_attribute('href'))\n",
    "\n",
    "driver.quit()"
   ]
  },
  {
   "cell_type": "code",
   "execution_count": 54,
   "metadata": {},
   "outputs": [
    {
     "name": "stderr",
     "output_type": "stream",
     "text": [
      "ERROR:trafilatura.utils:parsed tree length: 0, wrong data type or not valid HTML\n",
      "ERROR:trafilatura.core:empty HTML tree for URL None\n",
      "ERROR:trafilatura.downloads:not a 200 response: 404 for URL https://zgmy.rpmcustomshop.pl/%C3%BCrtiker-anjio%C3%B6dem-bitkisel-tedavisi.html\n",
      "ERROR:trafilatura.downloads:not a 200 response: 403 for URL https://istanbulalerjimerkezi.com.tr/yetiskinlerde-urtiker-kurdesen-nedir/\n",
      "ERROR:trafilatura.utils:parsed tree length: 0, wrong data type or not valid HTML\n",
      "ERROR:trafilatura.core:empty HTML tree for URL None\n"
     ]
    }
   ],
   "source": [
    "def bs_extract_text_fallback(response_content):\n",
    "\n",
    "    \"\"\"\n",
    "    Secondary function to be used when trafilatura couldn't process the url due to any reason.\n",
    "\n",
    "    args:\n",
    "        response_content: content of the url to be parsed.\n",
    "    \"\"\"\n",
    "    \n",
    "    soup = BeautifulSoup(response_content, 'html.parser', from_encoding='utf-8')\n",
    "    text = soup.find_all(text=True)\n",
    "\n",
    "    cleaned_text = ''\n",
    "\n",
    "    blacklist = [\n",
    "        '[document]',\n",
    "        'noscript',\n",
    "        'header',\n",
    "        'html',\n",
    "        'meta',\n",
    "        'head',\n",
    "        'input',\n",
    "        'script',\n",
    "        'style'\n",
    "    ]\n",
    "\n",
    "    for item in text:\n",
    "        if item.parent.name not in blacklist:\n",
    "            cleaned_text += '{} '.format(item)\n",
    "\n",
    "    cleaned_text = cleaned_text.replace('\\t', '')\n",
    "    return cleaned_text.strip()\n",
    "\n",
    "\n",
    "\n",
    "def extract_text_from_single_web_page(url):\n",
    "\n",
    "    \"\"\"\n",
    "    Primary function to be used to process the given url.\n",
    "\n",
    "    args:\n",
    "        url: url to be processed as a string.\n",
    "    \"\"\"\n",
    "    \n",
    "    \n",
    "    downloaded_url = trafilatura.fetch_url(url)\n",
    "    \n",
    "\n",
    "    try:\n",
    "\n",
    "        a = trafilatura.extract(downloaded_url,\n",
    "                                output_format='json',\n",
    "                                with_metadata=False,\n",
    "                                include_comments=False,\n",
    "                                date_extraction_params={'extensive_search':True,\n",
    "                                                        'original_date':True})\n",
    "        \n",
    "    except:\n",
    "        \n",
    "        a=False\n",
    "    \n",
    "    \n",
    "        \n",
    "\n",
    "    if a:\n",
    "        json_output = json.loads(a)\n",
    "        return json_output['text']\n",
    "\n",
    "    else:\n",
    "        try:\n",
    "            try:\n",
    "                resp = requests.get(url, verify=False)\n",
    "            \n",
    "                if resp.status_code == 200:\n",
    "                    return bs_extract_text_fallback(resp.content)\n",
    "                else:\n",
    "                    return np.nan\n",
    "\n",
    "            except requests.exceptions.ConnectionError:\n",
    "                pass\n",
    "\n",
    "        except MissingSchema:\n",
    "            return np.nan\n",
    "            \n",
    "# extracting text from multiple web pages\n",
    "text_content = [extract_text_from_single_web_page(url) for url in urls]"
   ]
  },
  {
   "cell_type": "code",
   "execution_count": 56,
   "metadata": {},
   "outputs": [
    {
     "name": "stderr",
     "output_type": "stream",
     "text": [
      "Token indices sequence length is longer than the specified maximum sequence length for this model (625 > 512). Running this sequence through the model will result in indexing errors\n"
     ]
    }
   ],
   "source": [
    "from math import isnan, nan\n",
    "\n",
    "# cleaning up nan contents\n",
    "while np.nan in text_content:\n",
    "    text_content.remove(np.nan)\n",
    "\n",
    "\n",
    "\n",
    "# getting cosine similarities of the results found and storing the most relevant ones in the ret list with their similarity probabilities.\n",
    "ret = []\n",
    "prob = 0\n",
    "for resp in text_content:\n",
    "    if resp:\n",
    "        \n",
    "        processed_out = preprocess_text([' '.join([x for x in resp.split('\\n') if x.strip()])])\n",
    "        \n",
    "        out_embed = get_sentence_embeddings(processed_out)\n",
    "        similarity = 1-cosine(out_embed, inp_embed)\n",
    "        if similarity>prob and not 'http' in resp:\n",
    "            prob = similarity\n",
    "            ret.append((resp, similarity))"
   ]
  },
  {
   "cell_type": "code",
   "execution_count": 57,
   "metadata": {},
   "outputs": [
    {
     "data": {
      "text/plain": [
       "0.9500774145126343"
      ]
     },
     "execution_count": 57,
     "metadata": {},
     "output_type": "execute_result"
    }
   ],
   "source": [
    "# getting the most relevant text's probability\n",
    "ret[-1][1]"
   ]
  },
  {
   "cell_type": "code",
   "execution_count": 58,
   "metadata": {},
   "outputs": [
    {
     "data": {
      "text/plain": [
       "'Yaşam kalitesini oldukça etkileyen, sık görülen alerjik otoimmün hastalıklar arasında yer alır. Ciltte kabarıklık, kızarıklık ve kaşıntıya sebep olan bu hastalığın tanısında hastanın hikayesi önemlidir. Ürtikerin hangi şartlarda ortaya çıktığı (stres, besinler, ilaçlar, enfeksiyonlar ve fiziksel nedenler) iyice tanımlanmalıdır.\\nÜrtiker, bazı hücrelerimizden salınan Histamin’in etkisiyle cilt üzerindeki kızarıklıklara neden olur. Daha derin dokularda gerçekleşen ürtiker, anjioödem olarak tanımlanır. Özellikle dudaklarda, göz kapaklarında, ellerde ve ayakta şiddetli şişlikler olarak görülürler. Ağız, dil ve sonrasında solunum yollarını etkileyebilen şişlikler nefes alınmasını güçleştirebilir. Anjioödem ciddi ve acil müdahele edilmesi gereken bir hastalıktır.\\nÜrtiker ve anjioödemin tedavisi çoğunlukla hastalığın seyrine bağlı olarak planlanır. Erken dönem tedavide antihistaminik ilaçlar başarılıdır. Ancak daha komplike hastalarda çoklu ilaç tedavileri gerekmektedir.\\nÜrtiker nedir?\\nHalk arasında ‘’kurdeşen’’ olarak bilinen ürtiker; ödem, kaşıntı, kızarma, kabarma bulgularıyla seyreden papül ve plaklarla karakterize bir hastalıktır. Lezyonların sınırları belirgin, renkleri pembe-kırmızı veya deri renginde olabilir.\\nÜrtiker 6 haftadan kısa sürdüğünde akut ürtiker, 6 haftadan uzun süreli olduğunda ise kronik ürtiker olarak isimlendirilir. Akut ürtiker, çoğunlukla stres zemininde gelişir. Gıda, kullanılan ilaçlar veya vücudun herhangi bir yerinde oluşan enfeksiyonların tetiklediği alerjik reaksiyonlara bağlı olarak ortaya çıkar.\\nBasınç, sıcak, soğuk, titreşim, su, güneş ışığı ve egzersiz gibi fiziksel uyaranlara bağlı olarak oluşan ürtiker tipi fiziksel ürtiker olarak isimlendirilir.\\nÜrtiker kaç günde geçer?\\nÜrtikerin kırmızı kaşıntılı kabarık klinik bulguları en fazla 24 saat içerisinde kendiliğinden geçer. En sık 15-20 dakika kadar sürer. Ancak aynı gün içerisinde veya diğer günlerde kendini tekrarlar. Dermatoloğa başvuran hastada çoğu zaman, kırmızı kaşıntılı şişlikleri görülmez. Ancak hastanın hikayesi ve başka hastalığa benzemeyen klinik özellikleri nedeniyle tanı rahatlıkla konulabilir.\\nÜrtiker kimlerde görülür?\\nÜrtiker, kadın ve erkek her yaşta kişide gözlenebilir. Genellikle çocuklarda ve genç erişkinlerde akut ürtiker gözlenirken, kronik ürtiker yetişkinlerde ve özellikle kadınlarda sık görülür.\\nÜrtiker neden olur?\\nStres en önemli ürtiker sebebidir. Bunun yanında;\\n- Paketlenmiş gıdalar (koruyucu maddeler nedeniyle),\\n- Kabuklu yemişler, soya, kabuklu deniz ürünleri, baharatlar, mayalı gıdalar,\\n- Süt ürünleri, çay, çikolata, kola, cips,\\n- Muz, çilek, kivi vb. meyveler,\\n- Yiyeceklerin içerisinde bulunan renklendiriciler,\\n- İlaçlar (antibiyotikler, ağrı kesiciler, doğum kontrol hapları, radyo kontrast maddeler)\\n- İç hastalıkları özellikle tiroid hastalıkları ürtikere neden olabilir.\\n- Enfeksiyonlar özellikle idrar yolu enfeksiyonları, Helicobacter Pylori enfeksiyonu, vajinit, diş çürükleri gibi bakteriyel enfeksiyonlar ve viral enfeksiyonlar.\\nÜrtiker tedavisi nasıl yapılır?\\nVücuttaki ürtiker lezyonunun şiddetine bağlı olarak ürtiker tedavisi çeşitleri de değişkenlik gösterebilir.\\nAkut ürtikerde hastanın klinik şikayetlerinin giderilmesine yönelik tedaviler düzenlenir. Tedavi ilk basamağı, antihistaminik ilaçlardır. Kronik ürtikerde ise hastalığın kontrolü için mutlaka altta yatan nedene yönelik testler yapılır. Ürtiker tedavisi ile birlikte, neden olan faktörlerin tespit edilmesi ve buna yönelik tedavinin yapılması hastalığın tekrarının engellenmesi için önemlidir.\\nÜrtiker tedavisi fiyatları nedir?\\nUygulanacak tedavi hastanın ihtiyacına göre belirleneceğinden, ürtiker tedavisi fiyatları uygulanan bölgeye göre değişiklik gösterebilir.\\nÜrtiker tedavisi için Dermatoloji Doktorlarımız Eda Tiftikçi ve Tuğba Türe neler diyor?\\nDoktorlarımız sizleri bilgilendirmek amacıyla bu genel bilgileri sunmuştur ancak bu bilgiler herkes için aynı olmayabilir. Hangi tedavinin yapılacağı gibi konular için internetteki bilgilere güvenmemeniz önerilir. Birebir muayene ile kişiye en uygun tedavi protokolleri belirlenir. Detaylı bilgi ve randevu için Lotus Dermatoloji’yi arayabilirsiniz.'"
      ]
     },
     "execution_count": 58,
     "metadata": {},
     "output_type": "execute_result"
    }
   ],
   "source": [
    "# printing the most relevant content\n",
    "print(ret[-1][0])"
   ]
  },
  {
   "cell_type": "code",
   "execution_count": 59,
   "metadata": {},
   "outputs": [],
   "source": [
    "# connecting to the database and storing outputs\n",
    "\n",
    "conn = pg2.connect(database='chatbot', user='postgres', password='')\n",
    "cur = conn.cursor()\n",
    "query = 'INSERT INTO history(user_input, output, main_topic,group_id) VALUES(%s,%s,%s,%s)'\n",
    "cur.execute(query, (inp, ret[-1][0], pred, 1))\n",
    "conn.commit()\n",
    "conn.close()"
   ]
  },
  {
   "cell_type": "code",
   "execution_count": 60,
   "metadata": {},
   "outputs": [],
   "source": [
    "# querrying the database to extract general topics \n",
    "\n",
    "conn = pg2.connect(database='chatbot', user='postgres', password='20138579hsnmr')\n",
    "cur = conn.cursor()\n",
    "query = 'SELECT * FROM history'\n",
    "cur.execute(query)\n",
    "raw_db_data = cur.fetchall()\n",
    "conn.close()"
   ]
  },
  {
   "cell_type": "code",
   "execution_count": 61,
   "metadata": {},
   "outputs": [],
   "source": [
    "# cleaning the output from the querry\n",
    "db_texts = [x[0].replace('{','').replace('}','') for x in raw_db_data]\n",
    "db_texts = [x.replace('\"','') for x in db_texts]"
   ]
  },
  {
   "cell_type": "code",
   "execution_count": 62,
   "metadata": {},
   "outputs": [
    {
     "name": "stderr",
     "output_type": "stream",
     "text": [
      "Some weights of the model checkpoint at C:\\Users\\Hasan/.cache\\torch\\sentence_transformers\\dbmdz_bert-base-turkish-128k-uncased were not used when initializing BertModel: ['cls.predictions.transform.LayerNorm.weight', 'cls.seq_relationship.bias', 'cls.predictions.bias', 'cls.predictions.transform.dense.weight', 'cls.predictions.decoder.weight', 'cls.seq_relationship.weight', 'cls.predictions.transform.LayerNorm.bias', 'cls.predictions.decoder.bias', 'cls.predictions.transform.dense.bias']\n",
      "- This IS expected if you are initializing BertModel from the checkpoint of a model trained on another task or with another architecture (e.g. initializing a BertForSequenceClassification model from a BertForPreTraining model).\n",
      "- This IS NOT expected if you are initializing BertModel from the checkpoint of a model that you expect to be exactly identical (initializing a BertForSequenceClassification model from a BertForSequenceClassification model).\n"
     ]
    }
   ],
   "source": [
    "# preparing involved models to be able to extrach topics and sub-topics with BerTopic\n",
    "\n",
    "import umap.umap_ as umap\n",
    "from hdbscan import HDBSCAN\n",
    "from sklearn.feature_extraction.text import CountVectorizer\n",
    "from sentence_transformers import SentenceTransformer\n",
    "\n",
    "embedding_model = SentenceTransformer('dbmdz/bert-base-turkish-128k-uncased')\n",
    "umap_model = umap.UMAP(init='spectral', n_neighbors=2, n_components=3, min_dist=0.05) # hyperparameters should be optimized for better performance!\n",
    "hdbscan_model = HDBSCAN(gen_min_span_tree=True,\n",
    "                        prediction_data=True) # hyperparameters should be optimized for better performance!\n",
    "\n",
    "\n",
    "\n",
    "stopwords = list(stopwords) + ['http', 'https', 'amp', 'com', 'olarak', 'olan', 'olacak', 'oldu', 'olmuş', 'oluyor']\n",
    "\n",
    "# we add this to remove stopwords that can pollute topcs\n",
    "vectorizer_model = CountVectorizer(ngram_range=(1, 2), stop_words=stopwords)"
   ]
  },
  {
   "cell_type": "code",
   "execution_count": 63,
   "metadata": {},
   "outputs": [
    {
     "name": "stderr",
     "output_type": "stream",
     "text": [
      "Batches: 100%|██████████| 1/1 [00:08<00:00,  8.84s/it]\n",
      "2022-09-23 09:41:24,875 - BERTopic - Transformed documents to Embeddings\n",
      "2022-09-23 09:41:29,931 - BERTopic - Reduced dimensionality\n",
      "2022-09-23 09:41:29,974 - BERTopic - Clustered reduced embeddings\n"
     ]
    }
   ],
   "source": [
    "# extracting topics\n",
    "\n",
    "from bertopic import BERTopic\n",
    "\n",
    "model = BERTopic(\n",
    "    umap_model=umap_model,\n",
    "    hdbscan_model=hdbscan_model,\n",
    "    embedding_model=embedding_model,\n",
    "    vectorizer_model=vectorizer_model,\n",
    "    top_n_words=5,\n",
    "    language='turkish',\n",
    "    calculate_probabilities=True,\n",
    "    verbose=True\n",
    ")\n",
    "topics, probs = model.fit_transform(db_texts)"
   ]
  },
  {
   "cell_type": "code",
   "execution_count": 64,
   "metadata": {},
   "outputs": [
    {
     "data": {
      "application/vnd.plotly.v1+json": {
       "config": {
        "plotlyServerURL": "https://plot.ly"
       },
       "data": [
        {
         "marker": {
          "color": "#D55E00"
         },
         "orientation": "h",
         "type": "bar",
         "x": [
          0.01271111992988326,
          0.01480510127597102,
          0.0187976690910157,
          0.022584046443182453,
          0.03793005226939791
         ],
         "xaxis": "x",
         "y": [
          "birlikte  ",
          "deprem  ",
          "ülkemizde  ",
          "biber  ",
          "konut  "
         ],
         "yaxis": "y"
        },
        {
         "marker": {
          "color": "#0072B2"
         },
         "orientation": "h",
         "type": "bar",
         "x": [
          0.01271111992988326,
          0.01480510127597102,
          0.0187976690910157,
          0.022584046443182453,
          0.03793005226939791
         ],
         "xaxis": "x2",
         "y": [
          "birlikte  ",
          "deprem  ",
          "ülkemizde  ",
          "biber  ",
          "konut  "
         ],
         "yaxis": "y2"
        },
        {
         "marker": {
          "color": "#CC79A7"
         },
         "orientation": "h",
         "type": "bar",
         "x": [
          0.01271111992988326,
          0.01480510127597102,
          0.0187976690910157,
          0.022584046443182453,
          0.03793005226939791
         ],
         "xaxis": "x3",
         "y": [
          "birlikte  ",
          "deprem  ",
          "ülkemizde  ",
          "biber  ",
          "konut  "
         ],
         "yaxis": "y3"
        },
        {
         "marker": {
          "color": "#E69F00"
         },
         "orientation": "h",
         "type": "bar",
         "x": [
          0.01271111992988326,
          0.01480510127597102,
          0.0187976690910157,
          0.022584046443182453,
          0.03793005226939791
         ],
         "xaxis": "x4",
         "y": [
          "birlikte  ",
          "deprem  ",
          "ülkemizde  ",
          "biber  ",
          "konut  "
         ],
         "yaxis": "y4"
        },
        {
         "marker": {
          "color": "#56B4E9"
         },
         "orientation": "h",
         "type": "bar",
         "x": [
          0.01271111992988326,
          0.01480510127597102,
          0.0187976690910157,
          0.022584046443182453,
          0.03793005226939791
         ],
         "xaxis": "x5",
         "y": [
          "birlikte  ",
          "deprem  ",
          "ülkemizde  ",
          "biber  ",
          "konut  "
         ],
         "yaxis": "y5"
        },
        {
         "marker": {
          "color": "#009E73"
         },
         "orientation": "h",
         "type": "bar",
         "x": [
          0.01271111992988326,
          0.01480510127597102,
          0.0187976690910157,
          0.022584046443182453,
          0.03793005226939791
         ],
         "xaxis": "x6",
         "y": [
          "birlikte  ",
          "deprem  ",
          "ülkemizde  ",
          "biber  ",
          "konut  "
         ],
         "yaxis": "y6"
        },
        {
         "marker": {
          "color": "#F0E442"
         },
         "orientation": "h",
         "type": "bar",
         "x": [
          0.01271111992988326,
          0.01480510127597102,
          0.0187976690910157,
          0.022584046443182453,
          0.03793005226939791
         ],
         "xaxis": "x7",
         "y": [
          "birlikte  ",
          "deprem  ",
          "ülkemizde  ",
          "biber  ",
          "konut  "
         ],
         "yaxis": "y7"
        }
       ],
       "layout": {
        "annotations": [
         {
          "font": {
           "size": 16
          },
          "showarrow": false,
          "text": "Topic -1",
          "x": 0.0875,
          "xanchor": "center",
          "xref": "paper",
          "y": 1,
          "yanchor": "bottom",
          "yref": "paper"
         },
         {
          "font": {
           "size": 16
          },
          "showarrow": false,
          "text": "Topic -1",
          "x": 0.36250000000000004,
          "xanchor": "center",
          "xref": "paper",
          "y": 1,
          "yanchor": "bottom",
          "yref": "paper"
         },
         {
          "font": {
           "size": 16
          },
          "showarrow": false,
          "text": "Topic -1",
          "x": 0.6375000000000001,
          "xanchor": "center",
          "xref": "paper",
          "y": 1,
          "yanchor": "bottom",
          "yref": "paper"
         },
         {
          "font": {
           "size": 16
          },
          "showarrow": false,
          "text": "Topic -1",
          "x": 0.9125,
          "xanchor": "center",
          "xref": "paper",
          "y": 1,
          "yanchor": "bottom",
          "yref": "paper"
         },
         {
          "font": {
           "size": 16
          },
          "showarrow": false,
          "text": "Topic -1",
          "x": 0.0875,
          "xanchor": "center",
          "xref": "paper",
          "y": 0.4,
          "yanchor": "bottom",
          "yref": "paper"
         },
         {
          "font": {
           "size": 16
          },
          "showarrow": false,
          "text": "Topic -1",
          "x": 0.36250000000000004,
          "xanchor": "center",
          "xref": "paper",
          "y": 0.4,
          "yanchor": "bottom",
          "yref": "paper"
         },
         {
          "font": {
           "size": 16
          },
          "showarrow": false,
          "text": "Topic -1",
          "x": 0.6375000000000001,
          "xanchor": "center",
          "xref": "paper",
          "y": 0.4,
          "yanchor": "bottom",
          "yref": "paper"
         }
        ],
        "height": 500,
        "hoverlabel": {
         "bgcolor": "white",
         "font": {
          "family": "Rockwell",
          "size": 16
         }
        },
        "showlegend": false,
        "template": {
         "data": {
          "bar": [
           {
            "error_x": {
             "color": "#2a3f5f"
            },
            "error_y": {
             "color": "#2a3f5f"
            },
            "marker": {
             "line": {
              "color": "white",
              "width": 0.5
             },
             "pattern": {
              "fillmode": "overlay",
              "size": 10,
              "solidity": 0.2
             }
            },
            "type": "bar"
           }
          ],
          "barpolar": [
           {
            "marker": {
             "line": {
              "color": "white",
              "width": 0.5
             },
             "pattern": {
              "fillmode": "overlay",
              "size": 10,
              "solidity": 0.2
             }
            },
            "type": "barpolar"
           }
          ],
          "carpet": [
           {
            "aaxis": {
             "endlinecolor": "#2a3f5f",
             "gridcolor": "#C8D4E3",
             "linecolor": "#C8D4E3",
             "minorgridcolor": "#C8D4E3",
             "startlinecolor": "#2a3f5f"
            },
            "baxis": {
             "endlinecolor": "#2a3f5f",
             "gridcolor": "#C8D4E3",
             "linecolor": "#C8D4E3",
             "minorgridcolor": "#C8D4E3",
             "startlinecolor": "#2a3f5f"
            },
            "type": "carpet"
           }
          ],
          "choropleth": [
           {
            "colorbar": {
             "outlinewidth": 0,
             "ticks": ""
            },
            "type": "choropleth"
           }
          ],
          "contour": [
           {
            "colorbar": {
             "outlinewidth": 0,
             "ticks": ""
            },
            "colorscale": [
             [
              0,
              "#0d0887"
             ],
             [
              0.1111111111111111,
              "#46039f"
             ],
             [
              0.2222222222222222,
              "#7201a8"
             ],
             [
              0.3333333333333333,
              "#9c179e"
             ],
             [
              0.4444444444444444,
              "#bd3786"
             ],
             [
              0.5555555555555556,
              "#d8576b"
             ],
             [
              0.6666666666666666,
              "#ed7953"
             ],
             [
              0.7777777777777778,
              "#fb9f3a"
             ],
             [
              0.8888888888888888,
              "#fdca26"
             ],
             [
              1,
              "#f0f921"
             ]
            ],
            "type": "contour"
           }
          ],
          "contourcarpet": [
           {
            "colorbar": {
             "outlinewidth": 0,
             "ticks": ""
            },
            "type": "contourcarpet"
           }
          ],
          "heatmap": [
           {
            "colorbar": {
             "outlinewidth": 0,
             "ticks": ""
            },
            "colorscale": [
             [
              0,
              "#0d0887"
             ],
             [
              0.1111111111111111,
              "#46039f"
             ],
             [
              0.2222222222222222,
              "#7201a8"
             ],
             [
              0.3333333333333333,
              "#9c179e"
             ],
             [
              0.4444444444444444,
              "#bd3786"
             ],
             [
              0.5555555555555556,
              "#d8576b"
             ],
             [
              0.6666666666666666,
              "#ed7953"
             ],
             [
              0.7777777777777778,
              "#fb9f3a"
             ],
             [
              0.8888888888888888,
              "#fdca26"
             ],
             [
              1,
              "#f0f921"
             ]
            ],
            "type": "heatmap"
           }
          ],
          "heatmapgl": [
           {
            "colorbar": {
             "outlinewidth": 0,
             "ticks": ""
            },
            "colorscale": [
             [
              0,
              "#0d0887"
             ],
             [
              0.1111111111111111,
              "#46039f"
             ],
             [
              0.2222222222222222,
              "#7201a8"
             ],
             [
              0.3333333333333333,
              "#9c179e"
             ],
             [
              0.4444444444444444,
              "#bd3786"
             ],
             [
              0.5555555555555556,
              "#d8576b"
             ],
             [
              0.6666666666666666,
              "#ed7953"
             ],
             [
              0.7777777777777778,
              "#fb9f3a"
             ],
             [
              0.8888888888888888,
              "#fdca26"
             ],
             [
              1,
              "#f0f921"
             ]
            ],
            "type": "heatmapgl"
           }
          ],
          "histogram": [
           {
            "marker": {
             "pattern": {
              "fillmode": "overlay",
              "size": 10,
              "solidity": 0.2
             }
            },
            "type": "histogram"
           }
          ],
          "histogram2d": [
           {
            "colorbar": {
             "outlinewidth": 0,
             "ticks": ""
            },
            "colorscale": [
             [
              0,
              "#0d0887"
             ],
             [
              0.1111111111111111,
              "#46039f"
             ],
             [
              0.2222222222222222,
              "#7201a8"
             ],
             [
              0.3333333333333333,
              "#9c179e"
             ],
             [
              0.4444444444444444,
              "#bd3786"
             ],
             [
              0.5555555555555556,
              "#d8576b"
             ],
             [
              0.6666666666666666,
              "#ed7953"
             ],
             [
              0.7777777777777778,
              "#fb9f3a"
             ],
             [
              0.8888888888888888,
              "#fdca26"
             ],
             [
              1,
              "#f0f921"
             ]
            ],
            "type": "histogram2d"
           }
          ],
          "histogram2dcontour": [
           {
            "colorbar": {
             "outlinewidth": 0,
             "ticks": ""
            },
            "colorscale": [
             [
              0,
              "#0d0887"
             ],
             [
              0.1111111111111111,
              "#46039f"
             ],
             [
              0.2222222222222222,
              "#7201a8"
             ],
             [
              0.3333333333333333,
              "#9c179e"
             ],
             [
              0.4444444444444444,
              "#bd3786"
             ],
             [
              0.5555555555555556,
              "#d8576b"
             ],
             [
              0.6666666666666666,
              "#ed7953"
             ],
             [
              0.7777777777777778,
              "#fb9f3a"
             ],
             [
              0.8888888888888888,
              "#fdca26"
             ],
             [
              1,
              "#f0f921"
             ]
            ],
            "type": "histogram2dcontour"
           }
          ],
          "mesh3d": [
           {
            "colorbar": {
             "outlinewidth": 0,
             "ticks": ""
            },
            "type": "mesh3d"
           }
          ],
          "parcoords": [
           {
            "line": {
             "colorbar": {
              "outlinewidth": 0,
              "ticks": ""
             }
            },
            "type": "parcoords"
           }
          ],
          "pie": [
           {
            "automargin": true,
            "type": "pie"
           }
          ],
          "scatter": [
           {
            "fillpattern": {
             "fillmode": "overlay",
             "size": 10,
             "solidity": 0.2
            },
            "type": "scatter"
           }
          ],
          "scatter3d": [
           {
            "line": {
             "colorbar": {
              "outlinewidth": 0,
              "ticks": ""
             }
            },
            "marker": {
             "colorbar": {
              "outlinewidth": 0,
              "ticks": ""
             }
            },
            "type": "scatter3d"
           }
          ],
          "scattercarpet": [
           {
            "marker": {
             "colorbar": {
              "outlinewidth": 0,
              "ticks": ""
             }
            },
            "type": "scattercarpet"
           }
          ],
          "scattergeo": [
           {
            "marker": {
             "colorbar": {
              "outlinewidth": 0,
              "ticks": ""
             }
            },
            "type": "scattergeo"
           }
          ],
          "scattergl": [
           {
            "marker": {
             "colorbar": {
              "outlinewidth": 0,
              "ticks": ""
             }
            },
            "type": "scattergl"
           }
          ],
          "scattermapbox": [
           {
            "marker": {
             "colorbar": {
              "outlinewidth": 0,
              "ticks": ""
             }
            },
            "type": "scattermapbox"
           }
          ],
          "scatterpolar": [
           {
            "marker": {
             "colorbar": {
              "outlinewidth": 0,
              "ticks": ""
             }
            },
            "type": "scatterpolar"
           }
          ],
          "scatterpolargl": [
           {
            "marker": {
             "colorbar": {
              "outlinewidth": 0,
              "ticks": ""
             }
            },
            "type": "scatterpolargl"
           }
          ],
          "scatterternary": [
           {
            "marker": {
             "colorbar": {
              "outlinewidth": 0,
              "ticks": ""
             }
            },
            "type": "scatterternary"
           }
          ],
          "surface": [
           {
            "colorbar": {
             "outlinewidth": 0,
             "ticks": ""
            },
            "colorscale": [
             [
              0,
              "#0d0887"
             ],
             [
              0.1111111111111111,
              "#46039f"
             ],
             [
              0.2222222222222222,
              "#7201a8"
             ],
             [
              0.3333333333333333,
              "#9c179e"
             ],
             [
              0.4444444444444444,
              "#bd3786"
             ],
             [
              0.5555555555555556,
              "#d8576b"
             ],
             [
              0.6666666666666666,
              "#ed7953"
             ],
             [
              0.7777777777777778,
              "#fb9f3a"
             ],
             [
              0.8888888888888888,
              "#fdca26"
             ],
             [
              1,
              "#f0f921"
             ]
            ],
            "type": "surface"
           }
          ],
          "table": [
           {
            "cells": {
             "fill": {
              "color": "#EBF0F8"
             },
             "line": {
              "color": "white"
             }
            },
            "header": {
             "fill": {
              "color": "#C8D4E3"
             },
             "line": {
              "color": "white"
             }
            },
            "type": "table"
           }
          ]
         },
         "layout": {
          "annotationdefaults": {
           "arrowcolor": "#2a3f5f",
           "arrowhead": 0,
           "arrowwidth": 1
          },
          "autotypenumbers": "strict",
          "coloraxis": {
           "colorbar": {
            "outlinewidth": 0,
            "ticks": ""
           }
          },
          "colorscale": {
           "diverging": [
            [
             0,
             "#8e0152"
            ],
            [
             0.1,
             "#c51b7d"
            ],
            [
             0.2,
             "#de77ae"
            ],
            [
             0.3,
             "#f1b6da"
            ],
            [
             0.4,
             "#fde0ef"
            ],
            [
             0.5,
             "#f7f7f7"
            ],
            [
             0.6,
             "#e6f5d0"
            ],
            [
             0.7,
             "#b8e186"
            ],
            [
             0.8,
             "#7fbc41"
            ],
            [
             0.9,
             "#4d9221"
            ],
            [
             1,
             "#276419"
            ]
           ],
           "sequential": [
            [
             0,
             "#0d0887"
            ],
            [
             0.1111111111111111,
             "#46039f"
            ],
            [
             0.2222222222222222,
             "#7201a8"
            ],
            [
             0.3333333333333333,
             "#9c179e"
            ],
            [
             0.4444444444444444,
             "#bd3786"
            ],
            [
             0.5555555555555556,
             "#d8576b"
            ],
            [
             0.6666666666666666,
             "#ed7953"
            ],
            [
             0.7777777777777778,
             "#fb9f3a"
            ],
            [
             0.8888888888888888,
             "#fdca26"
            ],
            [
             1,
             "#f0f921"
            ]
           ],
           "sequentialminus": [
            [
             0,
             "#0d0887"
            ],
            [
             0.1111111111111111,
             "#46039f"
            ],
            [
             0.2222222222222222,
             "#7201a8"
            ],
            [
             0.3333333333333333,
             "#9c179e"
            ],
            [
             0.4444444444444444,
             "#bd3786"
            ],
            [
             0.5555555555555556,
             "#d8576b"
            ],
            [
             0.6666666666666666,
             "#ed7953"
            ],
            [
             0.7777777777777778,
             "#fb9f3a"
            ],
            [
             0.8888888888888888,
             "#fdca26"
            ],
            [
             1,
             "#f0f921"
            ]
           ]
          },
          "colorway": [
           "#636efa",
           "#EF553B",
           "#00cc96",
           "#ab63fa",
           "#FFA15A",
           "#19d3f3",
           "#FF6692",
           "#B6E880",
           "#FF97FF",
           "#FECB52"
          ],
          "font": {
           "color": "#2a3f5f"
          },
          "geo": {
           "bgcolor": "white",
           "lakecolor": "white",
           "landcolor": "white",
           "showlakes": true,
           "showland": true,
           "subunitcolor": "#C8D4E3"
          },
          "hoverlabel": {
           "align": "left"
          },
          "hovermode": "closest",
          "mapbox": {
           "style": "light"
          },
          "paper_bgcolor": "white",
          "plot_bgcolor": "white",
          "polar": {
           "angularaxis": {
            "gridcolor": "#EBF0F8",
            "linecolor": "#EBF0F8",
            "ticks": ""
           },
           "bgcolor": "white",
           "radialaxis": {
            "gridcolor": "#EBF0F8",
            "linecolor": "#EBF0F8",
            "ticks": ""
           }
          },
          "scene": {
           "xaxis": {
            "backgroundcolor": "white",
            "gridcolor": "#DFE8F3",
            "gridwidth": 2,
            "linecolor": "#EBF0F8",
            "showbackground": true,
            "ticks": "",
            "zerolinecolor": "#EBF0F8"
           },
           "yaxis": {
            "backgroundcolor": "white",
            "gridcolor": "#DFE8F3",
            "gridwidth": 2,
            "linecolor": "#EBF0F8",
            "showbackground": true,
            "ticks": "",
            "zerolinecolor": "#EBF0F8"
           },
           "zaxis": {
            "backgroundcolor": "white",
            "gridcolor": "#DFE8F3",
            "gridwidth": 2,
            "linecolor": "#EBF0F8",
            "showbackground": true,
            "ticks": "",
            "zerolinecolor": "#EBF0F8"
           }
          },
          "shapedefaults": {
           "line": {
            "color": "#2a3f5f"
           }
          },
          "ternary": {
           "aaxis": {
            "gridcolor": "#DFE8F3",
            "linecolor": "#A2B1C6",
            "ticks": ""
           },
           "baxis": {
            "gridcolor": "#DFE8F3",
            "linecolor": "#A2B1C6",
            "ticks": ""
           },
           "bgcolor": "white",
           "caxis": {
            "gridcolor": "#DFE8F3",
            "linecolor": "#A2B1C6",
            "ticks": ""
           }
          },
          "title": {
           "x": 0.05
          },
          "xaxis": {
           "automargin": true,
           "gridcolor": "#EBF0F8",
           "linecolor": "#EBF0F8",
           "ticks": "",
           "title": {
            "standoff": 15
           },
           "zerolinecolor": "#EBF0F8",
           "zerolinewidth": 2
          },
          "yaxis": {
           "automargin": true,
           "gridcolor": "#EBF0F8",
           "linecolor": "#EBF0F8",
           "ticks": "",
           "title": {
            "standoff": 15
           },
           "zerolinecolor": "#EBF0F8",
           "zerolinewidth": 2
          }
         }
        },
        "title": {
         "font": {
          "color": "Black",
          "size": 22
         },
         "text": "<b>Topic Word Scores",
         "x": 0.5,
         "xanchor": "center",
         "yanchor": "top"
        },
        "width": 1000,
        "xaxis": {
         "anchor": "y",
         "domain": [
          0,
          0.175
         ],
         "showgrid": true
        },
        "xaxis2": {
         "anchor": "y2",
         "domain": [
          0.275,
          0.45
         ],
         "showgrid": true
        },
        "xaxis3": {
         "anchor": "y3",
         "domain": [
          0.55,
          0.7250000000000001
         ],
         "showgrid": true
        },
        "xaxis4": {
         "anchor": "y4",
         "domain": [
          0.825,
          1
         ],
         "showgrid": true
        },
        "xaxis5": {
         "anchor": "y5",
         "domain": [
          0,
          0.175
         ],
         "showgrid": true
        },
        "xaxis6": {
         "anchor": "y6",
         "domain": [
          0.275,
          0.45
         ],
         "showgrid": true
        },
        "xaxis7": {
         "anchor": "y7",
         "domain": [
          0.55,
          0.7250000000000001
         ],
         "showgrid": true
        },
        "xaxis8": {
         "anchor": "y8",
         "domain": [
          0.825,
          1
         ],
         "showgrid": true
        },
        "yaxis": {
         "anchor": "x",
         "domain": [
          0.6000000000000001,
          1
         ],
         "showgrid": true
        },
        "yaxis2": {
         "anchor": "x2",
         "domain": [
          0.6000000000000001,
          1
         ],
         "showgrid": true
        },
        "yaxis3": {
         "anchor": "x3",
         "domain": [
          0.6000000000000001,
          1
         ],
         "showgrid": true
        },
        "yaxis4": {
         "anchor": "x4",
         "domain": [
          0.6000000000000001,
          1
         ],
         "showgrid": true
        },
        "yaxis5": {
         "anchor": "x5",
         "domain": [
          0,
          0.4
         ],
         "showgrid": true
        },
        "yaxis6": {
         "anchor": "x6",
         "domain": [
          0,
          0.4
         ],
         "showgrid": true
        },
        "yaxis7": {
         "anchor": "x7",
         "domain": [
          0,
          0.4
         ],
         "showgrid": true
        },
        "yaxis8": {
         "anchor": "x8",
         "domain": [
          0,
          0.4
         ],
         "showgrid": true
        }
       }
      }
     },
     "metadata": {},
     "output_type": "display_data"
    }
   ],
   "source": [
    "model.visualize_barchart(topics, probs)"
   ]
  }
 ],
 "metadata": {
  "kernelspec": {
   "display_name": "Python 3.9.9 64-bit",
   "language": "python",
   "name": "python3"
  },
  "language_info": {
   "codemirror_mode": {
    "name": "ipython",
    "version": 3
   },
   "file_extension": ".py",
   "mimetype": "text/x-python",
   "name": "python",
   "nbconvert_exporter": "python",
   "pygments_lexer": "ipython3",
   "version": "3.9.9 (tags/v3.9.9:ccb0e6a, Nov 15 2021, 18:08:50) [MSC v.1929 64 bit (AMD64)]"
  },
  "orig_nbformat": 4,
  "vscode": {
   "interpreter": {
    "hash": "11938c6bc6919ae2720b4d5011047913343b08a43b18698fd82dedb0d4417594"
   }
  }
 },
 "nbformat": 4,
 "nbformat_minor": 2
}
